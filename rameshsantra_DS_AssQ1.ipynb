{
 "cells": [
  {
   "cell_type": "markdown",
   "id": "62c0efd3-20e3-4fd7-828a-96c2a10cc65f",
   "metadata": {},
   "source": [
    "#### Q1. What are the characteristics of the tuples? Is tuple immutable?\n",
    "\n"
   ]
  },
  {
   "cell_type": "markdown",
   "id": "2d61b492-28df-4eca-bf7f-c385fd190188",
   "metadata": {},
   "source": [
    "Tuples are ordered collections of elements in Python. They have the following characteristics:\n",
    "\n",
    "Ordered: The elements in a tuple are ordered, meaning they have a specific position or index.                           \n",
    "Immutable: Tuples are immutable, which means their elements cannot be modified or changed after creation. However, it is possible to create a new tuple by concatenating or slicing existing tuples.   \n",
    "\n",
    "Heterogeneous: Tuples can contain elements of different data types, such as integers, floats, strings, or even other tuples.   \n",
    "Iterable: Tuples can be iterated over using loops or other iterable methods like for loops or tuple() function.  \n",
    "Accessed by index: Elements in a tuple can be accessed using their index, starting from 0 for the first element.\n",
    "Can contain duplicates: Tuples can contain duplicate elements, and the order of elements is preserved."
   ]
  },
  {
   "cell_type": "markdown",
   "id": "1bcd1bd5-5a08-4e54-a804-67c35aafae39",
   "metadata": {},
   "source": [
    "#### Q2. What are the two tuple methods in python? Give an example of each method. Give a reason why tuples have only two in-built methods as compared to Lists."
   ]
  },
  {
   "cell_type": "markdown",
   "id": "54eb5e1e-21ef-4d74-8e0b-cdbfe4d26e5a",
   "metadata": {},
   "source": [
    "The two tuple methods in Python are count() and index().\n",
    "\n",
    "count() method: This method is used to count the number of occurrences of a specified element in a tuple. It takes a single argument, which is the element to be counted. Here's an example:"
   ]
  },
  {
   "cell_type": "code",
   "execution_count": 5,
   "id": "807d2471-20ee-4b29-8673-2dd64f233b71",
   "metadata": {},
   "outputs": [],
   "source": [
    "t=(1,2,3,4,4, \"Ram\", True )"
   ]
  },
  {
   "cell_type": "code",
   "execution_count": 2,
   "id": "00b7de21-2643-4410-a329-6c58181c56f0",
   "metadata": {},
   "outputs": [
    {
     "data": {
      "text/plain": [
       "(1, 2, 3, 4, 'Ram', True)"
      ]
     },
     "execution_count": 2,
     "metadata": {},
     "output_type": "execute_result"
    }
   ],
   "source": [
    "t"
   ]
  },
  {
   "cell_type": "code",
   "execution_count": 6,
   "id": "00b87481-24a6-46fd-bf2e-ba1a158cf63f",
   "metadata": {},
   "outputs": [
    {
     "data": {
      "text/plain": [
       "2"
      ]
     },
     "execution_count": 6,
     "metadata": {},
     "output_type": "execute_result"
    }
   ],
   "source": [
    "t.count(4)"
   ]
  },
  {
   "cell_type": "markdown",
   "id": "7eb6d09d-7395-4f58-b1c9-02b5a69d4031",
   "metadata": {},
   "source": [
    "index() method: This method is used to find the index of the first occurrence of a specified element in a tuple. \n",
    "It takes a single argument, which is the element to be searched. Here's an example:"
   ]
  },
  {
   "cell_type": "code",
   "execution_count": 7,
   "id": "885f5492-a6bf-4507-ad15-37599da7e992",
   "metadata": {},
   "outputs": [
    {
     "data": {
      "text/plain": [
       "(1, 2, 3, 4, 4, 'Ram', True)"
      ]
     },
     "execution_count": 7,
     "metadata": {},
     "output_type": "execute_result"
    }
   ],
   "source": [
    "t"
   ]
  },
  {
   "cell_type": "code",
   "execution_count": 14,
   "id": "2bdfeaf0-929b-4a0b-ab92-a38f9c69ed19",
   "metadata": {},
   "outputs": [
    {
     "data": {
      "text/plain": [
       "5"
      ]
     },
     "execution_count": 14,
     "metadata": {},
     "output_type": "execute_result"
    }
   ],
   "source": [
    "t.index(\"Ram\")"
   ]
  },
  {
   "cell_type": "markdown",
   "id": "245494bd-795b-4793-bb32-89d5969b7aed",
   "metadata": {},
   "source": [
    "Tuples have only two in-built methods as compared to lists because tuples are immutable, meaning their elements cannot be changed after creation. \n",
    "The two methods provided for tuples are focused on retrieving information rather than modifying the tuple. \n",
    "Lists, on the other hand, have more methods since they are mutable, allowing for operations such as appending, inserting, and removing elements."
   ]
  },
  {
   "cell_type": "markdown",
   "id": "d0524f43-d96c-4bc2-ab42-a0c0d39b8f20",
   "metadata": {},
   "source": [
    "#### Q3. Which collection datatypes in python do not allow duplicate items? Write a code using a set to remove duplicates from the given list."
   ]
  },
  {
   "cell_type": "markdown",
   "id": "5cb547f0-8c56-4d16-9415-30a904767e8d",
   "metadata": {},
   "source": [
    "The collection datatype in Python that does not allow duplicate items is a set. A set is an unordered collection of unique elements. Here's the code to remove duplicates from the given list using a set:"
   ]
  },
  {
   "cell_type": "code",
   "execution_count": 1,
   "id": "612dfb38-1cc5-437e-b855-d38f4c42d10c",
   "metadata": {},
   "outputs": [
    {
     "name": "stdout",
     "output_type": "stream",
     "text": [
      "[1, 2, 3, 4]\n"
     ]
    }
   ],
   "source": [
    "my_list = [1, 1, 1, 2, 1, 3, 1, 4, 2, 1, 2, 2, 2, 3, 2, 4, 3, 1, 3, 2, 3, 3, 3, 4, 4, 1, 4, 2, 4, 3, 4, 4]\n",
    "unique_items = set(my_list)\n",
    "l1=my_list_without_duplicates = list(unique_items)\n",
    "print(l1)"
   ]
  },
  {
   "cell_type": "markdown",
   "id": "0f3d978d-3779-4a3d-87ff-51d1f0fdddd7",
   "metadata": {},
   "source": [
    "#### Q4. Explain the difference between the union() and update() methods for a set. Give an example of each method."
   ]
  },
  {
   "cell_type": "markdown",
   "id": "4a1775e7-d428-40fc-9d6a-3c2c1023a1c6",
   "metadata": {},
   "source": [
    "The union() and update() methods in Python are used for combining sets, but they differ in how they modify the original set.\n",
    "Here is an explanation of the difference along with examples for each method:\n",
    "\n",
    "union() method:\n",
    "The union() method returns a new set that contains all the unique elements from both sets without modifying the original sets.\n",
    "It combines sets and eliminates any duplicate elements.\n",
    "The original sets remain unchanged.\n",
    "Example of union() method:"
   ]
  },
  {
   "cell_type": "code",
   "execution_count": 3,
   "id": "154d95a1-dd38-4d83-9b56-93a09c0d8ab6",
   "metadata": {},
   "outputs": [
    {
     "name": "stdout",
     "output_type": "stream",
     "text": [
      "{1, 2, 3, 4, 5}\n",
      "{1, 2, 3}\n",
      "{3, 4, 5}\n"
     ]
    }
   ],
   "source": [
    "s1 = {1, 2, 3}\n",
    "s2 = {3, 4, 5}\n",
    "\n",
    "union_set = s1.union(s2)\n",
    "\n",
    "print(union_set)\n",
    "print(s1)\n",
    "print(s2)"
   ]
  },
  {
   "cell_type": "markdown",
   "id": "e820ca51-483c-4440-85e9-478198dc7187",
   "metadata": {},
   "source": [
    "update() method:\n",
    "The update() method modifies the original set by adding elements from another set or any iterable to it.\n",
    "It performs an in-place modification, altering the original set.\n",
    "Duplicate elements are not added to the set, as sets only contain unique elements.\n",
    "Example of update() method:"
   ]
  },
  {
   "cell_type": "code",
   "execution_count": 1,
   "id": "bed6a108-9ad2-481d-ae50-add044e2ea4f",
   "metadata": {},
   "outputs": [
    {
     "name": "stdout",
     "output_type": "stream",
     "text": [
      "{1, 2, 3, 4, 5}\n",
      "{3, 4, 5}\n"
     ]
    }
   ],
   "source": [
    "s1 = {1, 2, 3}\n",
    "s2 = {3, 4, 5}\n",
    "\n",
    "s1.update(s2)\n",
    "\n",
    "print(s1)\n",
    "print(s2) "
   ]
  },
  {
   "cell_type": "markdown",
   "id": "55069d87-544a-492d-80c2-286d42c8f37b",
   "metadata": {},
   "source": [
    "#### Q5. What is a dictionary? Give an example. Also, state whether a dictionary is ordered or unordered."
   ]
  },
  {
   "cell_type": "markdown",
   "id": "6e05d9bf-6fb6-46cd-9653-29aeec638bec",
   "metadata": {},
   "source": [
    "A dictionary is a data structure in python programming language that stores data in key-value pairs.\n",
    "It is also known as an associative array or a hash table. In a dictionary, each key is unique and used to access its corresponding value.\n",
    "\n",
    "Here's an example of a dictionary in Python:"
   ]
  },
  {
   "cell_type": "code",
   "execution_count": 6,
   "id": "8d5280c4-bcd9-4e8d-8583-824edec3667c",
   "metadata": {},
   "outputs": [],
   "source": [
    "student = {\"name\": \"Ramesh\", \"age\": 23, \"major\": \"Engineering\", \"university\": \"RTMNU\"}"
   ]
  },
  {
   "cell_type": "code",
   "execution_count": 8,
   "id": "4c866337-c122-4aa6-9060-16bce52f0f2f",
   "metadata": {},
   "outputs": [],
   "source": [
    "student[\"grade\"]=(\"AA\")"
   ]
  },
  {
   "cell_type": "code",
   "execution_count": 9,
   "id": "5e67c9e6-4aa9-47ae-8d85-253052d90ae7",
   "metadata": {},
   "outputs": [
    {
     "data": {
      "text/plain": [
       "{'name': 'Ramesh',\n",
       " 'age': 23,\n",
       " 'major': 'Engineering',\n",
       " 'university': 'RTMNU',\n",
       " 'grade': 'AA'}"
      ]
     },
     "execution_count": 9,
     "metadata": {},
     "output_type": "execute_result"
    }
   ],
   "source": [
    "student"
   ]
  },
  {
   "cell_type": "markdown",
   "id": "eb390d9a-74ef-4634-bfe4-bedb70483f03",
   "metadata": {},
   "source": [
    "As for the ordering, dictionaries are generally considered unordered in most programming languages, including Python. \n",
    "This means that the elements in a dictionary do not have a specific order. When you access the elements of a dictionary,\n",
    "you do so by referencing the keys, rather than their positions."
   ]
  },
  {
   "cell_type": "markdown",
   "id": "2c159188-5b81-43a2-93dd-f0c5e88623ec",
   "metadata": {},
   "source": [
    "#### Q6. Can we create a nested dictionary? If so, please give an example by creating a simple one-level nested dictionary."
   ]
  },
  {
   "cell_type": "markdown",
   "id": "ccf92cda-dc82-46db-8b6f-e14f2055b379",
   "metadata": {},
   "source": [
    "Yes, we can create a nested dictionary in Python. A nested dictionary is a dictionary that contains another dictionary as its value. \n",
    "This allows us to create a hierarchical structure for organizing and storing data.\n",
    "\n",
    "Here's an example of a simple one-level nested dictionary in Python:"
   ]
  },
  {
   "cell_type": "code",
   "execution_count": 1,
   "id": "fe3a8f99-4af2-4211-ac38-ab0ac67e1a67",
   "metadata": {},
   "outputs": [],
   "source": [
    "student = {\n",
    "    \"name\": \"Ramesh\", \n",
    "    \"age\": 23, \n",
    "    \"major\": \"Engineering\", \n",
    "\"university\": { \n",
    "    \"name\": \"RTMNU\", \n",
    "    \"location\": \"Nagpur\"}\n",
    "} "
   ]
  },
  {
   "cell_type": "code",
   "execution_count": 2,
   "id": "461c59e6-6e14-46b7-99cc-e30d92884978",
   "metadata": {},
   "outputs": [
    {
     "data": {
      "text/plain": [
       "{'name': 'Ramesh',\n",
       " 'age': 23,\n",
       " 'major': 'Engineering',\n",
       " 'university': {'name': 'RTMNU', 'location': 'Nagpur'}}"
      ]
     },
     "execution_count": 2,
     "metadata": {},
     "output_type": "execute_result"
    }
   ],
   "source": [
    "student"
   ]
  },
  {
   "cell_type": "markdown",
   "id": "01187226-e8c9-4203-a620-7d138d1ce134",
   "metadata": {},
   "source": [
    "#### Q7. Using setdefault() method, create key named topics in the given dictionary and also add the value of the key as this list ['Python', 'Machine Learning’, 'Deep Learning']\n",
    "dict1 = {'language' : 'Python', 'course': 'Data Science Masters'}"
   ]
  },
  {
   "cell_type": "code",
   "execution_count": 10,
   "id": "b424d4bf-c18a-4e1a-9fc6-036ce89ad43f",
   "metadata": {},
   "outputs": [
    {
     "data": {
      "text/plain": [
       "['python', 'machine learning', 'deep learning']"
      ]
     },
     "execution_count": 10,
     "metadata": {},
     "output_type": "execute_result"
    }
   ],
   "source": [
    "dict1 = {'language' : 'Python', 'course': 'Data Science Masters'}\n",
    "dict1.setdefault(\"topics\",[\"python\",\"machine learning\",\"deep learning\"])"
   ]
  },
  {
   "cell_type": "code",
   "execution_count": 11,
   "id": "884fc69a-b29a-4b1f-bfe9-08dc76512490",
   "metadata": {},
   "outputs": [
    {
     "name": "stdout",
     "output_type": "stream",
     "text": [
      "{'language': 'Python', 'course': 'Data Science Masters', 'topics': ['python', 'machine learning', 'deep learning']}\n"
     ]
    }
   ],
   "source": [
    "print(dict1)"
   ]
  },
  {
   "cell_type": "markdown",
   "id": "f042ea0f-f314-41e8-84f5-58135d8552d0",
   "metadata": {},
   "source": [
    "#### Q8. What are the three view objects in dictionaries? Use the three in-built methods in python to display these three view objects for the given dictionary.\n",
    "dict1 = {'Sport': 'Cricket' , 'Teams': ['India', 'Australia', 'England', 'South Africa', 'Sri Lanka', 'New Zealand']}"
   ]
  },
  {
   "cell_type": "code",
   "execution_count": 35,
   "id": "4fd30b64-3a51-4044-b10b-493dd0020dbe",
   "metadata": {},
   "outputs": [
    {
     "name": "stdout",
     "output_type": "stream",
     "text": [
      "keys_view: dict_keys(['sport', 'teams'])\n",
      "values_view: dict_values(['cricket', ['India', 'Australia', 'England', 'South Africa', 'Srilanka', 'New Zealand']])\n",
      "items_view: dict_items([('sport', 'cricket'), ('teams', ['India', 'Australia', 'England', 'South Africa', 'Srilanka', 'New Zealand'])])\n"
     ]
    }
   ],
   "source": [
    "dict1={'sport':'cricket','teams':['India','Australia','England','South Africa','Srilanka','New Zealand']}\n",
    "keys_view=dict1.keys()\n",
    "values_view=dict1.values()\n",
    "items_view=dict1.items()\n",
    "print(\"keys_view:\",keys_view)\n",
    "print(\"values_view:\",values_view)\n",
    "print(\"items_view:\",items_view)"
   ]
  },
  {
   "cell_type": "code",
   "execution_count": 14,
   "id": "0dbcaf48-af98-42b6-b037-867b4c0815f6",
   "metadata": {},
   "outputs": [
    {
     "data": {
      "text/plain": [
       "dict_items([('sport', 'cricket'), ('teams', ['India', 'Australia', 'England', 'South Africa', 'Srilanka', 'New Zealand'])])"
      ]
     },
     "execution_count": 14,
     "metadata": {},
     "output_type": "execute_result"
    }
   ],
   "source": [
    "\n"
   ]
  },
  {
   "cell_type": "code",
   "execution_count": null,
   "id": "f0582a7c-fcc3-42b9-80e9-06f3c6913bfb",
   "metadata": {},
   "outputs": [],
   "source": []
  }
 ],
 "metadata": {
  "kernelspec": {
   "display_name": "Python 3 (ipykernel)",
   "language": "python",
   "name": "python3"
  },
  "language_info": {
   "codemirror_mode": {
    "name": "ipython",
    "version": 3
   },
   "file_extension": ".py",
   "mimetype": "text/x-python",
   "name": "python",
   "nbconvert_exporter": "python",
   "pygments_lexer": "ipython3",
   "version": "3.10.8"
  }
 },
 "nbformat": 4,
 "nbformat_minor": 5
}
